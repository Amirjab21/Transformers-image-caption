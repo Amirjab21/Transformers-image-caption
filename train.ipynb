{
 "cells": [
  {
   "cell_type": "code",
   "execution_count": 4,
   "metadata": {},
   "outputs": [],
   "source": [
    "import torch\n",
    "import torch.nn as nn\n",
    "import torch.optim as optim\n",
    "import torch.utils.data as data\n",
    "import math\n",
    "import copy\n",
    "import torch\n",
    "from torchvision import datasets, transforms\n",
    "import matplotlib.pyplot as plt\n",
    "import numpy as np\n",
    "import tqdm"
   ]
  },
  {
   "cell_type": "code",
   "execution_count": 5,
   "metadata": {},
   "outputs": [],
   "source": [
    "\n",
    "def load_dataset():\n",
    "    transform = transforms.Compose([\n",
    "        transforms.ToTensor(),\n",
    "        transforms.Normalize((0.1307,), (0.3081,))\n",
    "    ])\n",
    "    # Download and load the training data\n",
    "    train_dataset = datasets.MNIST(root='./data', \n",
    "                             train=True, \n",
    "                             download=True, \n",
    "                             transform=transform\n",
    "                             )\n",
    "    return train_dataset\n",
    "\n",
    "def generate_random_image(train_dataset):\n",
    "    images = []\n",
    "    labels = []\n",
    "    for _ in range(4):\n",
    "        idx = torch.randint(len(train_dataset), size=(1,)).item()\n",
    "        img, label = train_dataset[idx]\n",
    "        images.append(img.squeeze().numpy())\n",
    "        labels.append(label)\n",
    "\n",
    "# Concatenate images into a 2x2 grid\n",
    "    top_row = np.concatenate([images[0], images[1]], axis=1)\n",
    "    bottom_row = np.concatenate([images[2], images[3]], axis=1)\n",
    "    final_image = np.concatenate([top_row, bottom_row], axis=0)\n",
    "    return final_image, labels\n",
    "\n",
    "def split_image_to_patches(image):\n",
    "    blocks = []  # Initialize empty list to store blocks\n",
    "\n",
    "    for i in range(4):\n",
    "        for j in range(4):\n",
    "            # Extract 14x14 block\n",
    "            block = image[i*14:(i+1)*14, j*14:(j+1)*14]\n",
    "            blocks.append(block)  # Add block to our list\n",
    "    return blocks\n",
    "\n",
    "def create_dataset(num_images, train_dataset):\n",
    "    dataset = []\n",
    "    \n",
    "    for _ in range(num_images):\n",
    "        image, labels = generate_random_image(train_dataset)\n",
    "        dataset.append((image, labels))\n",
    "    \n",
    "    return dataset\n",
    "\n"
   ]
  },
  {
   "cell_type": "code",
   "execution_count": 6,
   "metadata": {},
   "outputs": [
    {
     "name": "stdout",
     "output_type": "stream",
     "text": [
      "(array([[-0.42421296, -0.42421296, -0.42421296, ..., -0.42421296,\n",
      "        -0.42421296, -0.42421296],\n",
      "       [-0.42421296, -0.42421296, -0.42421296, ..., -0.42421296,\n",
      "        -0.42421296, -0.42421296],\n",
      "       [-0.42421296, -0.42421296, -0.42421296, ..., -0.42421296,\n",
      "        -0.42421296, -0.42421296],\n",
      "       ...,\n",
      "       [-0.42421296, -0.42421296, -0.42421296, ..., -0.42421296,\n",
      "        -0.42421296, -0.42421296],\n",
      "       [-0.42421296, -0.42421296, -0.42421296, ..., -0.42421296,\n",
      "        -0.42421296, -0.42421296],\n",
      "       [-0.42421296, -0.42421296, -0.42421296, ..., -0.42421296,\n",
      "        -0.42421296, -0.42421296]], shape=(56, 56), dtype=float32), [6, 2, 0, 3])\n"
     ]
    }
   ],
   "source": [
    "train_dataset = load_dataset()\n",
    "dataset = create_dataset(10000, train_dataset)\n",
    "print(dataset[0]) #numpy array followed by array of the 4 labels"
   ]
  },
  {
   "cell_type": "code",
   "execution_count": 7,
   "metadata": {},
   "outputs": [],
   "source": [
    "class ImageDataset(torch.utils.data.Dataset):\n",
    "    def __init__(self, image_label_pairs):\n",
    "        self.image_label_pairs = image_label_pairs\n",
    "    \n",
    "    def __len__(self):\n",
    "        return len(self.image_label_pairs)\n",
    "    \n",
    "    def __getitem__(self, idx):\n",
    "        image, label = self.image_label_pairs[idx]\n",
    "\n",
    "        patches_array = self.split_image_to_patches(image)\n",
    "        patches_tensor = [torch.tensor(patch.flatten(), dtype=torch.float32) for patch in patches_array] #array of 16 with each tensor[196]\n",
    "        image_tensor = torch.stack(patches_tensor) # tensor [16,196]\n",
    "        #turn label array of integers into tensor:\n",
    "        label_tensor = torch.tensor(label, dtype=torch.long)\n",
    "        \n",
    "        \n",
    "        return {\n",
    "            'image': image_tensor,\n",
    "            'label': label_tensor,\n",
    "        }\n",
    "    \n",
    "    def split_image_to_patches(self, image):\n",
    "        blocks = []  # Initialize empty list to store blocks\n",
    "\n",
    "        for i in range(4):\n",
    "            for j in range(4):\n",
    "                # Extract 14x14 block\n",
    "                block = image[i*14:(i+1)*14, j*14:(j+1)*14]\n",
    "                blocks.append(block)  # Add block to our list\n",
    "        return blocks\n"
   ]
  },
  {
   "cell_type": "code",
   "execution_count": 8,
   "metadata": {},
   "outputs": [],
   "source": [
    "def clones(module, N):\n",
    "    \"Produce N identical layers.\"\n",
    "    return nn.ModuleList([copy.deepcopy(module) for _ in range(N)])"
   ]
  },
  {
   "cell_type": "code",
   "execution_count": 9,
   "metadata": {},
   "outputs": [],
   "source": [
    "class Embedding_Layer(nn.Module):\n",
    "    def __init__(self, input_dim, embedding_dim):\n",
    "        super(Embedding_Layer, self).__init__()\n",
    "        self.embedding = nn.Linear(input_dim, embedding_dim)\n",
    "        #input dimension is the dimension of each patch\n",
    "        #embedding_dim is the dimensionality that each patch is embedded onto\n",
    "    def forward(self, x):\n",
    "        return self.embedding(x)\n",
    "\n",
    "class Attention_Layer(nn.Module):\n",
    "    def __init__(self, d_model, num_heads):\n",
    "        super(Attention_Layer, self).__init__()\n",
    "        self.d_model = d_model\n",
    "        self.num_heads = num_heads\n",
    "\n",
    "        self.W_q = torch.nn.Linear(d_model, d_model)\n",
    "        self.W_k = torch.nn.Linear(d_model, d_model)\n",
    "        self.W_v = torch.nn.Linear(d_model, d_model)\n",
    "    \n",
    "    def forward(self, query_input, key_input, value_input, mask=None):\n",
    "        dim_k = self.d_model // self.num_heads\n",
    "        query = self.W_q(query_input)\n",
    "        key = self.W_k(key_input)\n",
    "        value = self.W_v(value_input)\n",
    "        \n",
    "        query_key = torch.matmul(query, key.transpose(-1, -2)) / math.sqrt(dim_k)\n",
    "        prob = query_key.softmax(dim=-1)\n",
    "        weighted_attention = torch.matmul(prob, value)\n",
    "        return weighted_attention, prob\n",
    "    \n",
    "\n",
    "class PositionalEncoding(nn.Module):\n",
    "    # Just add a randomised matrix to \n",
    "    def __init__(self, first_dim, embedding_dimension):\n",
    "        super(PositionalEncoding, self).__init__()\n",
    "        self.first_dim = first_dim\n",
    "        self.embedding_dimension = embedding_dimension\n",
    "        self.positional_encoding = torch.nn.Parameter(torch.rand(first_dim, embedding_dimension))\n",
    "\n",
    "    def forward(self, x):\n",
    "        return x + self.positional_encoding\n",
    "    \n",
    "\n",
    "class FeedForwardLayer(nn.Module):\n",
    "    def __init__(self, embedding_dim, hidden_layer_dim):\n",
    "        super(FeedForwardLayer, self).__init__()\n",
    "        self.ff1 = torch.nn.Linear(embedding_dim, hidden_layer_dim)\n",
    "        self.ff2 = torch.nn.Linear(hidden_layer_dim, embedding_dim)\n",
    "        self.relu = torch.nn.ReLU()\n",
    "    \n",
    "    def forward(self, x):\n",
    "        return self.ff2(self.relu(self.ff1(x)))\n",
    "    \n",
    "\n",
    "class LayerNorm(nn.Module):\n",
    "    \"Construct a layernorm module (See citation for details).\"\n",
    "\n",
    "    def __init__(self, features, eps=1e-6):\n",
    "        super(LayerNorm, self).__init__()\n",
    "        self.a_2 = nn.Parameter(torch.ones(features))\n",
    "        self.b_2 = nn.Parameter(torch.zeros(features))\n",
    "        self.eps = eps\n",
    "\n",
    "    def forward(self, x):\n",
    "        mean = x.mean(-1, keepdim=True)\n",
    "        std = x.std(-1, keepdim=True)\n",
    "        return self.a_2 * (x - mean) / (std + self.eps) + self.b_2\n",
    "\n",
    "\n",
    "\n",
    "class Encoder(nn.Module):\n",
    "    def __init__(self, input_dim, embedding_dim, n_loops, feed_forward, attention_layer, positional_encoding):\n",
    "        super(Encoder, self).__init__()\n",
    "        self.embedding_layer = Embedding_Layer(input_dim, embedding_dim)\n",
    "        self.positional_encoding = positional_encoding\n",
    "        self.attn_layer = attention_layer\n",
    "        self.FF_layer = feed_forward\n",
    "        self.embedding_dim = embedding_dim\n",
    "        self.input_dim = input_dim\n",
    "        self.n_loops = n_loops\n",
    "\n",
    "\n",
    "        #remove below when doing full model\n",
    "        self.intermediate = torch.nn.Linear(64*16, 40)\n",
    "        self.relu = torch.nn.ReLU()\n",
    "        self.flatten = torch.nn.Flatten()\n",
    "        self.final = torch.nn.Linear(40, 40)\n",
    "    \n",
    "    def get_qkv(self, q_input, k_input, v_input, embedding_dim):\n",
    "        query = torch.nn.Linear(q_input.size(-1), embedding_dim)\n",
    "        key = torch.nn.Linear(k_input.size(-1), embedding_dim)\n",
    "        value = torch.nn.Linear(v_input.size(-1), embedding_dim)\n",
    "        return query, key, value\n",
    "    \n",
    "    def LayerNorm(self, x, eps=1e-6):\n",
    "        features = x.size(-1)\n",
    "        a_2 = torch.nn.Parameter(torch.ones(features)) #shape (64,)\n",
    "        b_2 = torch.nn.Parameter(torch.zeros(features)) #shape (64,)\n",
    "\n",
    "        mean = x.mean(-1, keepdim=True)\n",
    "        std = x.std(-1, keepdim=True)\n",
    "\n",
    "        return a_2 * (x - mean) / (std + eps) + b_2\n",
    "\n",
    "    \n",
    "    def forward(self, x):\n",
    "        embedding = self.embedding_layer(x)\n",
    "\n",
    "        embedding = self.positional_encoding(embedding)\n",
    "\n",
    "        # for i in range(self.n_loops): #To do, to add loops, we must clone Encoder layers which consist of ff + attn\n",
    "        # query, key, value = self.get_qkv(x, x, x, self.embedding_dim)\n",
    "        attn, prob = self.attn_layer.forward(embedding, embedding, embedding, None)\n",
    "        x = attn + self.LayerNorm(attn)\n",
    "        x = self.FF_layer(x)\n",
    "        x = x + self.LayerNorm(x)\n",
    "\n",
    "        return x\n",
    "    \n",
    "    def predict_single_integer(self, x):\n",
    "        if len(x.shape) == 2:  # Single instance case [16, 64]\n",
    "            x = x.unsqueeze(0)  # Add batch dimension [1, 16, 64]\n",
    "        \n",
    "        # Now x is [batch, 16, 64] in both cases\n",
    "        x = x.reshape(x.size(0), -1)  # Flatten to [batch, 1024]\n",
    "        flatten = self.flatten(x)\n",
    "        x = self.intermediate(flatten)\n",
    "        x = self.relu(x)\n",
    "        return self.final(x)\n",
    "    \n",
    "    def predict_numbers(self, x):\n",
    "        if len(x.shape) == 2:  # Single instance case [16, 64]\n",
    "            x = x.unsqueeze(0)  # Add batch dimension [1, 16, 64]\n",
    "        \n",
    "        # Now x is [batch, 16, 64] in both cases\n",
    "        x = x.reshape(x.size(0), -1)  # Flatten to [batch, 1024]\n",
    "        flatten = self.flatten(x)\n",
    "        x = self.intermediate(flatten)\n",
    "        x = self.relu(x)\n",
    "        x = self.final(x)\n",
    "        # Reshape to [batch, 4, 10] for 4 digit predictions\n",
    "        return x.view(x.size(0), 4, 10)\n",
    "\n",
    "\n"
   ]
  },
  {
   "cell_type": "code",
   "execution_count": 10,
   "metadata": {},
   "outputs": [],
   "source": [
    "class MultiHeadAttention(nn.Module):\n",
    "    def __init__(self, d_model, num_heads):\n",
    "        super(MultiHeadAttention, self).__init__()\n",
    "        # Ensure that the model dimension (d_model) is divisible by the number of heads\n",
    "        assert d_model % num_heads == 0, \"d_model must be divisible by num_heads\"\n",
    "\n",
    "         # Initialize dimensions\n",
    "        self.d_model = d_model # Model's dimension\n",
    "        self.num_heads = num_heads # Number of attention heads\n",
    "        self.d_k = d_model // num_heads # Dimension of each head's key, query, and value\n",
    "\n",
    "        self.attn_probs = None\n",
    "\n",
    "                # Linear layers for transforming inputs\n",
    "        self.W_q = nn.Linear(d_model, d_model) # Query transformation\n",
    "        self.W_k = nn.Linear(d_model, d_model) # Key transformation\n",
    "        self.W_v = nn.Linear(d_model, d_model) # Value transformation\n",
    "        self.W_o = nn.Linear(d_model, d_model) # Output transformation\n",
    "\n",
    "    \n",
    "    def split_heads(self, x):\n",
    "        # Reshape the input to have num_heads for multi-head attention\n",
    "        batch_size, seq_length, d_model = x.size()\n",
    "        return x.view(batch_size, seq_length, self.num_heads, self.d_k).transpose(1, 2)\n",
    "        \n",
    "    def combine_heads(self, x):\n",
    "        # Combine the multiple heads back to original shape\n",
    "        batch_size, _, seq_length, d_k = x.size()\n",
    "        return x.transpose(1, 2).contiguous().view(batch_size, seq_length, self.d_model)\n",
    "    \n",
    "    def scaled_dot_product_attention(self, Q, K, V, mask=None):\n",
    "        # Calculate attention scores\n",
    "        attn_scores = torch.matmul(Q, K.transpose(-2, -1)) / math.sqrt(self.d_k)\n",
    "        \n",
    "        # Apply mask if provided (useful for preventing attention to certain parts like padding)\n",
    "        if mask is not None:\n",
    "            attn_scores = attn_scores.masked_fill(mask == 0, -1e9)\n",
    "        \n",
    "        # Softmax is applied to obtain attention probabilities\n",
    "        attn_probs = torch.softmax(attn_scores, dim=-1)\n",
    "        \n",
    "        # Multiply by values to obtain the final output\n",
    "        output = torch.matmul(attn_probs, V)\n",
    "        return output, attn_probs\n",
    "    \n",
    "    def forward(self, Q, K, V, mask=None):\n",
    "        # Apply linear transformations and split heads\n",
    "        Q = self.split_heads(self.W_q(Q))\n",
    "        K = self.split_heads(self.W_k(K))\n",
    "        V = self.split_heads(self.W_v(V))\n",
    "        \n",
    "        # Perform scaled dot-product attention\n",
    "        attn_output, attn_probs = self.scaled_dot_product_attention(Q, K, V, mask)\n",
    "        self.attn_probs = attn_probs\n",
    "        # Combine heads and apply output transformation\n",
    "        output = self.W_o(self.combine_heads(attn_output))\n",
    "        return output, attn_probs\n",
    "\n",
    "        \n"
   ]
  },
  {
   "cell_type": "code",
   "execution_count": 44,
   "metadata": {},
   "outputs": [
    {
     "name": "stderr",
     "output_type": "stream",
     "text": [
      "Epoch 1/20:   5%|▍         | 23/500 [00:00<00:04, 109.25it/s, batch_loss=0.457]"
     ]
    },
    {
     "name": "stdout",
     "output_type": "stream",
     "text": [
      "Predictions: tensor([0, 5, 9, 4])\n",
      "Actual labels: tensor([1, 4, 6, 6])\n"
     ]
    },
    {
     "name": "stderr",
     "output_type": "stream",
     "text": [
      "Epoch 1/20: 100%|██████████| 500/500 [00:04<00:00, 118.05it/s, batch_loss=0.443]\n"
     ]
    },
    {
     "name": "stdout",
     "output_type": "stream",
     "text": [
      "Epoch 1/20, Loss: 0.4568\n",
      "Total 1/20, Loss: 4567.8609\n"
     ]
    },
    {
     "name": "stderr",
     "output_type": "stream",
     "text": [
      "Epoch 2/20:   3%|▎         | 15/500 [00:00<00:03, 149.76it/s, batch_loss=0.449]"
     ]
    },
    {
     "name": "stdout",
     "output_type": "stream",
     "text": [
      "Predictions: tensor([7, 0, 0, 7])\n",
      "Actual labels: tensor([3, 7, 0, 3])\n"
     ]
    },
    {
     "name": "stderr",
     "output_type": "stream",
     "text": [
      "Epoch 2/20: 100%|██████████| 500/500 [00:04<00:00, 118.01it/s, batch_loss=0.423]\n"
     ]
    },
    {
     "name": "stdout",
     "output_type": "stream",
     "text": [
      "Epoch 2/20, Loss: 0.4417\n",
      "Total 2/20, Loss: 4492.2141\n"
     ]
    },
    {
     "name": "stderr",
     "output_type": "stream",
     "text": [
      "Epoch 3/20:   2%|▏         | 12/500 [00:00<00:04, 118.95it/s, batch_loss=0.43] "
     ]
    },
    {
     "name": "stdout",
     "output_type": "stream",
     "text": [
      "Predictions: tensor([9, 1, 1, 1])\n",
      "Actual labels: tensor([4, 0, 1, 7])\n"
     ]
    },
    {
     "name": "stderr",
     "output_type": "stream",
     "text": [
      "Epoch 3/20: 100%|██████████| 500/500 [00:04<00:00, 120.48it/s, batch_loss=0.409]\n"
     ]
    },
    {
     "name": "stdout",
     "output_type": "stream",
     "text": [
      "Epoch 3/20, Loss: 0.4218\n",
      "Total 3/20, Loss: 4400.7300\n"
     ]
    },
    {
     "name": "stderr",
     "output_type": "stream",
     "text": [
      "Epoch 4/20:   3%|▎         | 14/500 [00:00<00:03, 138.01it/s, batch_loss=0.403]"
     ]
    },
    {
     "name": "stdout",
     "output_type": "stream",
     "text": [
      "Predictions: tensor([1, 1, 1, 1])\n",
      "Actual labels: tensor([1, 5, 5, 1])\n"
     ]
    },
    {
     "name": "stderr",
     "output_type": "stream",
     "text": [
      "Epoch 4/20: 100%|██████████| 500/500 [00:04<00:00, 120.18it/s, batch_loss=0.408]\n"
     ]
    },
    {
     "name": "stdout",
     "output_type": "stream",
     "text": [
      "Epoch 4/20, Loss: 0.4010\n",
      "Total 4/20, Loss: 4303.0923\n"
     ]
    },
    {
     "name": "stderr",
     "output_type": "stream",
     "text": [
      "Epoch 5/20:   1%|          | 3/500 [00:00<00:16, 29.25it/s, batch_loss=0.381]"
     ]
    },
    {
     "name": "stdout",
     "output_type": "stream",
     "text": [
      "Predictions: tensor([4, 4, 4, 4])\n",
      "Actual labels: tensor([6, 9, 4, 3])\n"
     ]
    },
    {
     "name": "stderr",
     "output_type": "stream",
     "text": [
      "Epoch 5/20: 100%|██████████| 500/500 [00:04<00:00, 113.69it/s, batch_loss=0.316]\n"
     ]
    },
    {
     "name": "stdout",
     "output_type": "stream",
     "text": [
      "Epoch 5/20, Loss: 0.3575\n",
      "Total 5/20, Loss: 4157.5482\n"
     ]
    },
    {
     "name": "stderr",
     "output_type": "stream",
     "text": [
      "Epoch 6/20:   1%|          | 5/500 [00:00<00:11, 42.74it/s, batch_loss=0.303]"
     ]
    },
    {
     "name": "stdout",
     "output_type": "stream",
     "text": [
      "Predictions: tensor([4, 6, 4, 4])\n",
      "Actual labels: tensor([8, 6, 3, 4])\n"
     ]
    },
    {
     "name": "stderr",
     "output_type": "stream",
     "text": [
      "Epoch 6/20: 100%|██████████| 500/500 [00:04<00:00, 114.28it/s, batch_loss=0.275]\n"
     ]
    },
    {
     "name": "stdout",
     "output_type": "stream",
     "text": [
      "Epoch 6/20, Loss: 0.2865\n",
      "Total 6/20, Loss: 3942.1848\n"
     ]
    },
    {
     "name": "stderr",
     "output_type": "stream",
     "text": [
      "Epoch 7/20:   3%|▎         | 14/500 [00:00<00:03, 135.57it/s, batch_loss=0.275]"
     ]
    },
    {
     "name": "stdout",
     "output_type": "stream",
     "text": [
      "Predictions: tensor([2, 9, 6, 9])\n",
      "Actual labels: tensor([2, 9, 6, 7])\n"
     ]
    },
    {
     "name": "stderr",
     "output_type": "stream",
     "text": [
      "Epoch 7/20: 100%|██████████| 500/500 [00:04<00:00, 120.15it/s, batch_loss=0.199]\n"
     ]
    },
    {
     "name": "stdout",
     "output_type": "stream",
     "text": [
      "Epoch 7/20, Loss: 0.2204\n",
      "Total 7/20, Loss: 3693.8262\n"
     ]
    },
    {
     "name": "stderr",
     "output_type": "stream",
     "text": [
      "Epoch 8/20:   3%|▎         | 15/500 [00:00<00:03, 148.13it/s, batch_loss=0.201]"
     ]
    },
    {
     "name": "stdout",
     "output_type": "stream",
     "text": [
      "Predictions: tensor([7, 4, 6, 3])\n",
      "Actual labels: tensor([8, 4, 6, 3])\n"
     ]
    },
    {
     "name": "stderr",
     "output_type": "stream",
     "text": [
      "Epoch 8/20: 100%|██████████| 500/500 [00:04<00:00, 117.69it/s, batch_loss=0.162]\n"
     ]
    },
    {
     "name": "stdout",
     "output_type": "stream",
     "text": [
      "Epoch 8/20, Loss: 0.1744\n",
      "Total 8/20, Loss: 3450.0401\n"
     ]
    },
    {
     "name": "stderr",
     "output_type": "stream",
     "text": [
      "Epoch 9/20:   3%|▎         | 15/500 [00:00<00:03, 137.68it/s, batch_loss=0.164]"
     ]
    },
    {
     "name": "stdout",
     "output_type": "stream",
     "text": [
      "Predictions: tensor([0, 7, 0, 3])\n",
      "Actual labels: tensor([0, 7, 0, 8])\n"
     ]
    },
    {
     "name": "stderr",
     "output_type": "stream",
     "text": [
      "Epoch 9/20: 100%|██████████| 500/500 [00:03<00:00, 125.62it/s, batch_loss=0.133] \n"
     ]
    },
    {
     "name": "stdout",
     "output_type": "stream",
     "text": [
      "Epoch 9/20, Loss: 0.1452\n",
      "Total 9/20, Loss: 3228.0203\n"
     ]
    },
    {
     "name": "stderr",
     "output_type": "stream",
     "text": [
      "Epoch 10/20:   2%|▏         | 8/500 [00:00<00:06, 74.09it/s, batch_loss=0.125]"
     ]
    },
    {
     "name": "stdout",
     "output_type": "stream",
     "text": [
      "Predictions: tensor([3, 7, 5, 9])\n",
      "Actual labels: tensor([8, 9, 5, 7])\n"
     ]
    },
    {
     "name": "stderr",
     "output_type": "stream",
     "text": [
      "Epoch 10/20: 100%|██████████| 500/500 [00:04<00:00, 115.67it/s, batch_loss=0.136] \n"
     ]
    },
    {
     "name": "stdout",
     "output_type": "stream",
     "text": [
      "Epoch 10/20, Loss: 0.1254\n",
      "Total 10/20, Loss: 3030.5870\n"
     ]
    },
    {
     "name": "stderr",
     "output_type": "stream",
     "text": [
      "Epoch 11/20:   1%|▏         | 7/500 [00:00<00:07, 68.83it/s, batch_loss=0.0896]"
     ]
    },
    {
     "name": "stdout",
     "output_type": "stream",
     "text": [
      "Predictions: tensor([2, 8, 0, 3])\n",
      "Actual labels: tensor([2, 8, 0, 3])\n"
     ]
    },
    {
     "name": "stderr",
     "output_type": "stream",
     "text": [
      "Epoch 11/20: 100%|██████████| 500/500 [00:04<00:00, 115.05it/s, batch_loss=0.138] \n"
     ]
    },
    {
     "name": "stdout",
     "output_type": "stream",
     "text": [
      "Epoch 11/20, Loss: 0.1106\n",
      "Total 11/20, Loss: 2855.6058\n"
     ]
    },
    {
     "name": "stderr",
     "output_type": "stream",
     "text": [
      "Epoch 12/20:   3%|▎         | 16/500 [00:00<00:03, 153.55it/s, batch_loss=0.122] "
     ]
    },
    {
     "name": "stdout",
     "output_type": "stream",
     "text": [
      "Predictions: tensor([9, 8, 0, 1])\n",
      "Actual labels: tensor([9, 8, 0, 1])\n"
     ]
    },
    {
     "name": "stderr",
     "output_type": "stream",
     "text": [
      "Epoch 12/20: 100%|██████████| 500/500 [00:04<00:00, 116.89it/s, batch_loss=0.0588]\n"
     ]
    },
    {
     "name": "stdout",
     "output_type": "stream",
     "text": [
      "Epoch 12/20, Loss: 0.1001\n",
      "Total 12/20, Loss: 2701.0542\n"
     ]
    },
    {
     "name": "stderr",
     "output_type": "stream",
     "text": [
      "Epoch 13/20:   3%|▎         | 14/500 [00:00<00:03, 136.47it/s, batch_loss=0.0995]"
     ]
    },
    {
     "name": "stdout",
     "output_type": "stream",
     "text": [
      "Predictions: tensor([7, 6, 9, 4])\n",
      "Actual labels: tensor([7, 5, 9, 4])\n"
     ]
    },
    {
     "name": "stderr",
     "output_type": "stream",
     "text": [
      "Epoch 13/20: 100%|██████████| 500/500 [00:04<00:00, 123.73it/s, batch_loss=0.0792]\n"
     ]
    },
    {
     "name": "stdout",
     "output_type": "stream",
     "text": [
      "Epoch 13/20, Loss: 0.0917\n",
      "Total 13/20, Loss: 2563.8439\n"
     ]
    },
    {
     "name": "stderr",
     "output_type": "stream",
     "text": [
      "Epoch 14/20:   3%|▎         | 16/500 [00:00<00:03, 151.14it/s, batch_loss=0.084] "
     ]
    },
    {
     "name": "stdout",
     "output_type": "stream",
     "text": [
      "Predictions: tensor([2, 4, 7, 7])\n",
      "Actual labels: tensor([2, 4, 7, 7])\n"
     ]
    },
    {
     "name": "stderr",
     "output_type": "stream",
     "text": [
      "Epoch 14/20: 100%|██████████| 500/500 [00:04<00:00, 122.81it/s, batch_loss=0.074] \n"
     ]
    },
    {
     "name": "stdout",
     "output_type": "stream",
     "text": [
      "Epoch 14/20, Loss: 0.0858\n",
      "Total 14/20, Loss: 2441.9929\n"
     ]
    },
    {
     "name": "stderr",
     "output_type": "stream",
     "text": [
      "Epoch 15/20:   2%|▏         | 10/500 [00:00<00:05, 92.16it/s, batch_loss=0.0621]"
     ]
    },
    {
     "name": "stdout",
     "output_type": "stream",
     "text": [
      "Predictions: tensor([1, 8, 1, 2])\n",
      "Actual labels: tensor([1, 8, 1, 2])\n"
     ]
    },
    {
     "name": "stderr",
     "output_type": "stream",
     "text": [
      "Epoch 15/20: 100%|██████████| 500/500 [00:04<00:00, 117.15it/s, batch_loss=0.0827]\n"
     ]
    },
    {
     "name": "stdout",
     "output_type": "stream",
     "text": [
      "Epoch 15/20, Loss: 0.0807\n",
      "Total 15/20, Loss: 2332.9646\n"
     ]
    },
    {
     "name": "stderr",
     "output_type": "stream",
     "text": [
      "Epoch 16/20:   2%|▏         | 12/500 [00:00<00:04, 117.05it/s, batch_loss=0.0585]"
     ]
    },
    {
     "name": "stdout",
     "output_type": "stream",
     "text": [
      "Predictions: tensor([7, 7, 0, 2])\n",
      "Actual labels: tensor([7, 7, 0, 2])\n"
     ]
    },
    {
     "name": "stderr",
     "output_type": "stream",
     "text": [
      "Epoch 16/20: 100%|██████████| 500/500 [00:04<00:00, 115.75it/s, batch_loss=0.0728]\n"
     ]
    },
    {
     "name": "stdout",
     "output_type": "stream",
     "text": [
      "Epoch 16/20, Loss: 0.0767\n",
      "Total 16/20, Loss: 2235.1223\n"
     ]
    },
    {
     "name": "stderr",
     "output_type": "stream",
     "text": [
      "Epoch 17/20:   1%|▏         | 7/500 [00:00<00:07, 67.13it/s, batch_loss=0.0496]"
     ]
    },
    {
     "name": "stdout",
     "output_type": "stream",
     "text": [
      "Predictions: tensor([3, 9, 5, 9])\n",
      "Actual labels: tensor([5, 9, 5, 9])\n"
     ]
    },
    {
     "name": "stderr",
     "output_type": "stream",
     "text": [
      "Epoch 17/20: 100%|██████████| 500/500 [00:05<00:00, 89.41it/s, batch_loss=0.0523] \n"
     ]
    },
    {
     "name": "stdout",
     "output_type": "stream",
     "text": [
      "Epoch 17/20, Loss: 0.0733\n",
      "Total 17/20, Loss: 2146.7338\n"
     ]
    },
    {
     "name": "stderr",
     "output_type": "stream",
     "text": [
      "Epoch 18/20:   3%|▎         | 15/500 [00:00<00:03, 148.15it/s, batch_loss=0.0691]"
     ]
    },
    {
     "name": "stdout",
     "output_type": "stream",
     "text": [
      "Predictions: tensor([4, 5, 4, 0])\n",
      "Actual labels: tensor([4, 5, 4, 0])\n"
     ]
    },
    {
     "name": "stderr",
     "output_type": "stream",
     "text": [
      "Epoch 18/20: 100%|██████████| 500/500 [00:03<00:00, 129.23it/s, batch_loss=0.0627]\n"
     ]
    },
    {
     "name": "stdout",
     "output_type": "stream",
     "text": [
      "Epoch 18/20, Loss: 0.0706\n",
      "Total 18/20, Loss: 2066.6710\n"
     ]
    },
    {
     "name": "stderr",
     "output_type": "stream",
     "text": [
      "Epoch 19/20:   3%|▎         | 17/500 [00:00<00:03, 160.61it/s, batch_loss=0.0903]"
     ]
    },
    {
     "name": "stdout",
     "output_type": "stream",
     "text": [
      "Predictions: tensor([4, 0, 0, 3])\n",
      "Actual labels: tensor([4, 0, 0, 3])\n"
     ]
    },
    {
     "name": "stderr",
     "output_type": "stream",
     "text": [
      "Epoch 19/20: 100%|██████████| 500/500 [00:04<00:00, 114.31it/s, batch_loss=0.0839]\n"
     ]
    },
    {
     "name": "stdout",
     "output_type": "stream",
     "text": [
      "Epoch 19/20, Loss: 0.0682\n",
      "Total 19/20, Loss: 1993.7969\n"
     ]
    },
    {
     "name": "stderr",
     "output_type": "stream",
     "text": [
      "Epoch 20/20:   3%|▎         | 17/500 [00:00<00:02, 168.82it/s, batch_loss=0.102] "
     ]
    },
    {
     "name": "stdout",
     "output_type": "stream",
     "text": [
      "Predictions: tensor([1, 2, 8, 9])\n",
      "Actual labels: tensor([1, 2, 8, 9])\n"
     ]
    },
    {
     "name": "stderr",
     "output_type": "stream",
     "text": [
      "Epoch 20/20: 100%|██████████| 500/500 [00:04<00:00, 119.89it/s, batch_loss=0.0632]"
     ]
    },
    {
     "name": "stdout",
     "output_type": "stream",
     "text": [
      "Epoch 20/20, Loss: 0.0657\n",
      "Total 20/20, Loss: 1926.9537\n"
     ]
    },
    {
     "name": "stderr",
     "output_type": "stream",
     "text": [
      "\n"
     ]
    }
   ],
   "source": [
    "device = torch.device(\"cpu\")\n",
    "embedding_dim = 64\n",
    "hidden_layer_dimension = 32\n",
    "input_dimension = 196\n",
    "epochs = 20\n",
    "num_patches = 16\n",
    "fflayer = FeedForwardLayer(embedding_dim, hidden_layer_dimension)\n",
    "attention_layer = MultiHeadAttention(embedding_dim, 4)\n",
    "positional_encoding = PositionalEncoding(num_patches, embedding_dim)\n",
    "model = Encoder(input_dimension, embedding_dim, 1, fflayer,attention_layer=attention_layer, positional_encoding=positional_encoding)\n",
    "criterion = torch.nn.CrossEntropyLoss()  # Cross-Entropy Loss for classification\n",
    "learning_rate = 0.001\n",
    "optimizer = torch.optim.SGD(model.parameters(), learning_rate)\n",
    "\n",
    "\n",
    "dataset_ready = ImageDataset(dataset)\n",
    "batch_size = 20\n",
    "dataloader = torch.utils.data.DataLoader(\n",
    "    dataset_ready,\n",
    "    batch_size=batch_size,\n",
    "    shuffle=True,\n",
    ")\n",
    "\n",
    "\n",
    "\n",
    "def train():\n",
    "    model.train()\n",
    "    total_loss = 0\n",
    "    for epoch in range(epochs):\n",
    "        epoch_loss = 0\n",
    "        progress_bar = tqdm.tqdm(\n",
    "            dataloader, desc=f\"Epoch {epoch + 1}/{epochs}\"\n",
    "        )\n",
    "\n",
    "        for batch_idx, batch in enumerate(progress_bar):\n",
    "            \n",
    "            batch_loss = 0\n",
    "            image, label = batch['image'].to(device), batch['label'].to(device)\n",
    "\n",
    "            first_labels = label[:, 0]\n",
    "            optimizer.zero_grad()\n",
    "\n",
    "            output = model.forward(image)\n",
    "            # single_number = model.predict_single_integer(output)\n",
    "            predictions = model.predict_numbers(output)  # Shape: [batch, 4, 10]\n",
    "            \n",
    "             # Calculate loss for all 4 digits\n",
    "            batch_loss = sum(criterion(predictions[:, i], label[:, i]) for i in range(4))\n",
    "\n",
    "\n",
    "            if batch_idx == 0:  # Print only first batch of each epoch\n",
    "                pred_digits = torch.argmax(predictions[0], dim=1)\n",
    "                print(f\"Predictions: {pred_digits}\")\n",
    "                print(f\"Actual labels: {label[0]}\")\n",
    "\n",
    "            progress_bar.set_postfix({\"batch_loss\": batch_loss.item() /  batch_size})\n",
    "\n",
    "            epoch_loss += batch_loss.item()\n",
    "            total_loss += batch_loss.item()\n",
    "            batch_loss.backward()\n",
    "            optimizer.step()\n",
    "        \n",
    "        epoch_loss = epoch_loss / len(dataloader.dataset)\n",
    "        # total_loss += epoch_loss\n",
    "        print(f\"Epoch {epoch + 1}/{epochs}, Loss: {epoch_loss:.4f}\")\n",
    "        print(f\"Total {epoch + 1}/{epochs}, Loss: {total_loss / (epoch + 1):.4f}\")\n",
    "\n",
    "        \n",
    "train()\n",
    "\n"
   ]
  },
  {
   "cell_type": "code",
   "execution_count": 71,
   "metadata": {},
   "outputs": [],
   "source": [
    "def visualize_attention(attn_probs, head=0):\n",
    "    \"\"\"\n",
    "    Visualize attention probabilities for a specific head\n",
    "    \n",
    "    Args:\n",
    "        attn_probs: Tensor of shape [batch_size, num_heads, seq_len, seq_len]\n",
    "        head: Which attention head to visualize (default=0)\n",
    "    \"\"\"\n",
    "    # Take first batch and specified head\n",
    "    attn_map = attn_probs[0, head].detach().cpu().numpy()\n",
    "    \n",
    "    plt.figure(figsize=(10, 10))\n",
    "    plt.imshow(attn_map, cmap='viridis')\n",
    "    plt.colorbar()\n",
    "    plt.title(f'Attention Head {head}')\n",
    "    plt.xlabel('Key Position')\n",
    "    plt.ylabel('Query Position')\n",
    "    plt.show()\n",
    "\n",
    "# To visualize all heads at once\n",
    "def visualize_all_heads(attn_probs):\n",
    "    \"\"\"\n",
    "    Visualize all attention heads\n",
    "    \n",
    "    Args:\n",
    "        attn_probs: Tensor of shape [batch_size, num_heads, seq_len, dim_model]\n",
    "    \"\"\"\n",
    "    num_heads = attn_probs.size(1)\n",
    "    fig, axes = plt.subplots(2, num_heads//2, figsize=(15, 8))\n",
    "    \n",
    "    for head in range(num_heads):\n",
    "        attn_map = attn_probs[0, head].detach().cpu().numpy()\n",
    "        ax = axes[head//2, head%2]  # Correctly index into 2D axes array\n",
    "        im = ax.imshow(attn_map, cmap='viridis')\n",
    "        ax.set_title(f'Head {head}')\n",
    "        \n",
    "    plt.tight_layout()\n",
    "    # Create a single colorbar for the entire figure\n",
    "    fig.colorbar(im, ax=axes)\n",
    "    plt.show()\n",
    "\n",
    "def do_test_new(model):\n",
    "    image, label = generate_random_image(train_dataset)\n",
    "    plt.imshow(image, cmap='gray')\n",
    "    plt.title(f\"Labels: {label}\")\n",
    "    plt.show()\n",
    "\n",
    "    patches_array = split_image_to_patches(image)\n",
    "    patches_tensor = [torch.tensor(patch.flatten(), dtype=torch.float32) for patch in patches_array]\n",
    "    image_tensor = torch.stack(patches_tensor).unsqueeze(0)  # Add batch dimension [1, 16, 196]\n",
    "    # print(image_tensor.shape)\n",
    "    model.eval()\n",
    "    output = model.forward(image_tensor)\n",
    "    \n",
    "    # Get attention probabilities from the last forward pass\n",
    "    attn_probs = model.attn_layer.attn_probs\n",
    "    \n",
    "    # # Visualize attention patterns\n",
    "    visualize_all_heads(attn_probs)\n",
    "    \n",
    "    # # Continue with your existing prediction code\n",
    "    single_number = model.predict_numbers(output)\n",
    "    prediction = torch.argmax(single_number, dim=2)\n",
    "    print(prediction, 'prediction', \"should equal\", label)"
   ]
  },
  {
   "cell_type": "code",
   "execution_count": 72,
   "metadata": {},
   "outputs": [
    {
     "data": {
      "image/png": "[encoded data removed]",
      "text/plain": [
       "<Figure size 640x480 with 1 Axes>"
      ]
     },
     "metadata": {},
     "output_type": "display_data"
    },
    {
     "data": {
      "image/png": "[encoded data removed]",
      "text/plain": [
       "<Figure size 1500x800 with 5 Axes>"
      ]
     },
     "metadata": {},
     "output_type": "display_data"
    },
    {
     "name": "stdout",
     "output_type": "stream",
     "text": [
      "tensor([[3, 6, 8, 9]]) prediction should equal [3, 6, 8, 9]\n"
     ]
    }
   ],
   "source": [
    "do_test_new(model)"
   ]
  },
  {
   "cell_type": "code",
   "execution_count": null,
   "metadata": {},
   "outputs": [],
   "source": [
    "class Decoder(nn.Module):\n",
    "     def __init__(self, encoder_output, output_shifted_right, input_dim, embedding_dim, n_loops, feed_forward, attention_layer, positional_encoding):\n",
    "        super(Decoder, self).__init__()\n",
    "        self.embedding_layer = Embedding_Layer(input_dim, embedding_dim)\n",
    "        self.positional_encoding = positional_encoding\n",
    "        self.attn_layer = attention_layer\n",
    "        self.FF_layer = feed_forward\n",
    "        self.embedding_dim = embedding_dim\n",
    "        self.input_dim = input_dim\n",
    "        self.n_loops = n_loops\n",
    "\n",
    "\n",
    "     def forward(self, x):\n",
    "        embedding = self.embedding_layer(x)\n",
    "        embedding = self.positional_encoding(embedding)\n",
    "\n",
    "        \n",
    "\n",
    "\n",
    "    \n"
   ]
  }
 ],
 "metadata": {
  "kernelspec": {
   "display_name": "week3",
   "language": "python",
   "name": "python3"
  },
  "language_info": {
   "codemirror_mode": {
    "name": "ipython",
    "version": 3
   },
   "file_extension": ".py",
   "mimetype": "text/x-python",
   "name": "python",
   "nbconvert_exporter": "python",
   "pygments_lexer": "ipython3",
   "version": "3.11.7"
  }
 },
 "nbformat": 4,
 "nbformat_minor": 2
}
